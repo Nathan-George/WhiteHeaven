{
 "cells": [
  {
   "cell_type": "code",
   "execution_count": 1,
   "metadata": {},
   "outputs": [],
   "source": [
    "import numpy as np\n",
    "import cv2\n",
    "\n",
    "import matplotlib.pyplot as plt\n",
    "from tqdm.notebook import tqdm\n",
    "\n",
    "import os\n",
    "\n",
    "import puzzletools as tools\n",
    "from puzzlesolving import PuzzlePiece"
   ]
  },
  {
   "cell_type": "code",
   "execution_count": 2,
   "metadata": {},
   "outputs": [
    {
     "data": {
      "application/vnd.jupyter.widget-view+json": {
       "model_id": "56a305647dc1461e9519c8d7d694a2d8",
       "version_major": 2,
       "version_minor": 0
      },
      "text/plain": [
       "  0%|          | 0/1000 [00:00<?, ?it/s]"
      ]
     },
     "metadata": {},
     "output_type": "display_data"
    }
   ],
   "source": [
    "# create a list of all the images in the folder\n",
    "# Gets the puzzle piece image\n",
    "def get_piece_image(path):\n",
    "    # images are of the format piece#.png\n",
    "    img = cv2.imread(path)\n",
    "    return img\n",
    "\n",
    "piece_dir = '../dataset/pieces-clean'\n",
    "image_files = os.listdir(piece_dir)\n",
    "image_files = sorted(image_files, key=lambda x: int(x[5:-4]))\n",
    "\n",
    "# load all off the images\n",
    "piece_images = []\n",
    "for i in tqdm(range(len(image_files))):\n",
    "    piece_images.append( get_piece_image(os.path.join(piece_dir, image_files[i])) )\n",
    "\n",
    "piece_contours = []\n",
    "for i in range(len(piece_images)):\n",
    "    piece_contours.append(tools.get_contour(piece_images[i]))"
   ]
  },
  {
   "cell_type": "code",
   "execution_count": 3,
   "metadata": {},
   "outputs": [],
   "source": [
    "def test1():\n",
    "    corners = []\n",
    "    for i in range(len(piece_contours)):\n",
    "        corners.append(tools.find_corners(piece_contours[i]))\n",
    "        \n",
    "    def get_shortest_edge(corners, contour_len):\n",
    "        shortest_edge = np.inf\n",
    "        for i in range(4):\n",
    "            length = corners[i] - corners[i-1]\n",
    "            if length < 0:\n",
    "                length += contour_len\n",
    "            if length < shortest_edge:\n",
    "                shortest_edge = length\n",
    "        return shortest_edge\n",
    "    def get_longest_edge(corners, contour_len):\n",
    "        longest_edge = 0\n",
    "        for i in range(4):\n",
    "            length = corners[i] - corners[i-1]\n",
    "            if length < 0:\n",
    "                length += contour_len\n",
    "            if length > longest_edge:\n",
    "                longest_edge = length\n",
    "        return longest_edge\n",
    "\n",
    "    # find shortest and longest edges\n",
    "    short_lengths = np.zeros(len(piece_contours))\n",
    "    long_lengths = np.zeros(len(piece_contours))\n",
    "    for i in range(len(corners)):\n",
    "        short_lengths[i] = get_shortest_edge(corners[i], len(piece_contours[i]))\n",
    "        long_lengths[i] = get_longest_edge(corners[i], len(piece_contours[i]))\n",
    "\n",
    "    indices = np.argsort(short_lengths)\n",
    "    for i in range(10):\n",
    "        print(\"Length: {}, Index: {}\".format(short_lengths[indices[i]], indices[i]))\n",
    "\n",
    "    indices = np.argsort(long_lengths)\n",
    "    for i in range(10):\n",
    "        print(\"Length: {}, Index: {}\".format(long_lengths[indices[i]], indices[i]))"
   ]
  },
  {
   "cell_type": "code",
   "execution_count": 4,
   "metadata": {},
   "outputs": [],
   "source": [
    "# test the puzzle piece class\n",
    "def test2(i = 499):\n",
    "    \n",
    "    piece = PuzzlePiece(piece_contours[i])\n",
    "    plt.plot(piece.normalized_edges[0][:,0], piece.normalized_edges[0][:,1])"
   ]
  },
  {
   "cell_type": "code",
   "execution_count": 14,
   "metadata": {},
   "outputs": [
    {
     "data": {
      "application/vnd.jupyter.widget-view+json": {
       "model_id": "de8d2df0eec44af19c2c548deab80d07",
       "version_major": 2,
       "version_minor": 0
      },
      "text/plain": [
       "  0%|          | 0/1000 [00:00<?, ?it/s]"
      ]
     },
     "metadata": {},
     "output_type": "display_data"
    }
   ],
   "source": [
    "pieces = []\n",
    "for i in tqdm(range(len(piece_contours))):\n",
    "    pieces.append(PuzzlePiece(piece_contours[i]))"
   ]
  },
  {
   "cell_type": "code",
   "execution_count": 6,
   "metadata": {},
   "outputs": [],
   "source": [
    "def test3():\n",
    "    from puzzlesolving import Puzzle\n",
    "\n",
    "    board = Puzzle(pieces, (25, 40))\n",
    "    print(board.solve_piece(0, 0))"
   ]
  },
  {
   "cell_type": "code",
   "execution_count": 16,
   "metadata": {},
   "outputs": [
    {
     "name": "stdout",
     "output_type": "stream",
     "text": [
      "['outer', 'flat', 'flat', 'inner']\n"
     ]
    },
    {
     "data": {
      "text/plain": [
       "([None, None, None, None], ['flat', None, None, 'flat'])"
      ]
     },
     "execution_count": 16,
     "metadata": {},
     "output_type": "execute_result"
    }
   ],
   "source": [
    "from puzzlesolving import Puzzle\n",
    "print(pieces[0].edge_types)\n",
    "board = Puzzle(pieces, (25, 40))\n",
    "board.get_pocket(0, 0)\n"
   ]
  },
  {
   "cell_type": "code",
   "execution_count": 26,
   "metadata": {},
   "outputs": [],
   "source": [
    "board.place_piece(1, 0, 42, 3)"
   ]
  },
  {
   "cell_type": "code",
   "execution_count": 27,
   "metadata": {},
   "outputs": [
    {
     "data": {
      "text/plain": [
       "(array([[182,   3],\n",
       "        [200,   3],\n",
       "        [692,   3],\n",
       "        [173,   3],\n",
       "        [426,   1],\n",
       "        [564,   3],\n",
       "        [180,   3],\n",
       "        [704,   1],\n",
       "        [646,   1],\n",
       "        [994,   3]]),\n",
       " array([ 849.84380898,  958.89608369, 1012.98890586, 1182.33617678,\n",
       "        1289.85407534, 1300.31082914, 1551.33289492, 1597.11959009,\n",
       "        1712.85447895, 1832.04770399]))"
      ]
     },
     "execution_count": 27,
     "metadata": {},
     "output_type": "execute_result"
    }
   ],
   "source": [
    "board.solve_piece(1, 1)"
   ]
  },
  {
   "cell_type": "code",
   "execution_count": 9,
   "metadata": {},
   "outputs": [
    {
     "name": "stdout",
     "output_type": "stream",
     "text": [
      "(array([[ 3,  1],\n",
      "       [ 0,  2],\n",
      "       [ 1,  3],\n",
      "       [ 2,  0],\n",
      "       [51,  2],\n",
      "       [51,  3],\n",
      "       [52,  0],\n",
      "       [52,  1],\n",
      "       [52,  2],\n",
      "       [52,  3]]), array([ 0.,  0.,  0.,  0., inf, inf, inf, inf, inf, inf]))\n"
     ]
    }
   ],
   "source": [
    "test3()"
   ]
  }
 ],
 "metadata": {
  "kernelspec": {
   "display_name": "Python 3",
   "language": "python",
   "name": "python3"
  },
  "language_info": {
   "codemirror_mode": {
    "name": "ipython",
    "version": 3
   },
   "file_extension": ".py",
   "mimetype": "text/x-python",
   "name": "python",
   "nbconvert_exporter": "python",
   "pygments_lexer": "ipython3",
   "version": "3.11.3"
  },
  "orig_nbformat": 4
 },
 "nbformat": 4,
 "nbformat_minor": 2
}
