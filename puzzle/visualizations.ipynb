{
 "cells": [
  {
   "cell_type": "code",
   "execution_count": 1,
   "metadata": {},
   "outputs": [],
   "source": [
    "import cv2\n",
    "import numpy as np\n",
    "import matplotlib.pyplot as plt\n",
    "\n",
    "import os\n",
    "os.chdir('C:\\\\Users\\\\nbg05\\\\Local Documents\\\\Projects\\WhiteHeaven')\n",
    "\n",
    "import puzzle.lib.puzzletools as tools\n",
    "from puzzle.lib.puzzlesolving import PuzzlePiece, Puzzle\n",
    "\n",
    "from ipywidgets import interact\n",
    "from tqdm.notebook import tqdm"
   ]
  },
  {
   "cell_type": "code",
   "execution_count": 2,
   "metadata": {},
   "outputs": [
    {
     "data": {
      "application/vnd.jupyter.widget-view+json": {
       "model_id": "9949492dd64d4cd8ad9187f84a71264b",
       "version_major": 2,
       "version_minor": 0
      },
      "text/plain": [
       "images:   0%|          | 0/1000 [00:00<?, ?it/s]"
      ]
     },
     "metadata": {},
     "output_type": "display_data"
    },
    {
     "data": {
      "application/vnd.jupyter.widget-view+json": {
       "model_id": "52c7c28923eb401b947119a8563e411a",
       "version_major": 2,
       "version_minor": 0
      },
      "text/plain": [
       "contours:   0%|          | 0/1000 [00:00<?, ?it/s]"
      ]
     },
     "metadata": {},
     "output_type": "display_data"
    }
   ],
   "source": [
    "# create a list of all the images in the folder\n",
    "# Gets the puzzle piece image\n",
    "def get_piece_image(path):\n",
    "    # images are of the format piece#.png\n",
    "    img = cv2.imread(path)\n",
    "    return img\n",
    "\n",
    "piece_dir = 'dataset/pieces-clean'\n",
    "image_files = os.listdir(piece_dir)\n",
    "image_files = sorted(image_files, key=lambda x: int(x[5:-4]))\n",
    "\n",
    "# load all off the images\n",
    "piece_images = []\n",
    "for i in tqdm(range(len(image_files)), 'images'):\n",
    "    piece_images.append( get_piece_image(os.path.join(piece_dir, image_files[i])) )\n",
    "\n",
    "piece_contours = []\n",
    "for i in tqdm(range(len(piece_images)), 'contours'):\n",
    "    piece_contours.append(tools.get_contour(piece_images[i], 226))"
   ]
  },
  {
   "cell_type": "code",
   "execution_count": 3,
   "metadata": {},
   "outputs": [
    {
     "data": {
      "application/vnd.jupyter.widget-view+json": {
       "model_id": "374f403b86864b95bd734cfc5b6cb1d8",
       "version_major": 2,
       "version_minor": 0
      },
      "text/plain": [
       "interactive(children=(IntSlider(value=499, description='i', max=999), IntSlider(value=200, description='zoom',…"
      ]
     },
     "metadata": {},
     "output_type": "display_data"
    }
   ],
   "source": [
    "@interact(i=(0, len(piece_images)-1), zoom=(0, 200), zoom_x=(0, 400), zoom_y=(0, 400))\n",
    "def view_contour(i, zoom=200, zoom_x=200, zoom_y=200):\n",
    "    \n",
    "    start_x = max(0, zoom_x - zoom)\n",
    "    end_x = min(piece_images[i].shape[1], zoom_x + zoom)\n",
    "    start_y = max(0, zoom_y - zoom)\n",
    "    end_y = min(piece_images[i].shape[0], zoom_y + zoom)\n",
    "    \n",
    "    fig, ax = plt.subplots()\n",
    "    fig.set_size_inches(13, 8)\n",
    "    \n",
    "    ax.set_xlim(0, end_x-start_x)\n",
    "    ax.set_ylim(0, end_y-start_y)\n",
    "    ax.imshow(piece_images[i][start_y:end_y,start_x:end_x])\n",
    "    ax.plot(piece_contours[i][:,0]-start_x, piece_contours[i][:,1]-start_y, 'r')\n",
    "    plt.show()"
   ]
  },
  {
   "cell_type": "code",
   "execution_count": 4,
   "metadata": {},
   "outputs": [
    {
     "data": {
      "application/vnd.jupyter.widget-view+json": {
       "model_id": "1ae63eb6290f422a9dfd4dba70b4321c",
       "version_major": 2,
       "version_minor": 0
      },
      "text/plain": [
       "  0%|          | 0/1000 [00:00<?, ?it/s]"
      ]
     },
     "metadata": {},
     "output_type": "display_data"
    }
   ],
   "source": [
    "pieces = []\n",
    "for i in tqdm(range(len(piece_contours))):\n",
    "    pieces.append(PuzzlePiece(piece_contours[i]))"
   ]
  },
  {
   "cell_type": "code",
   "execution_count": 5,
   "metadata": {},
   "outputs": [
    {
     "name": "stdout",
     "output_type": "stream",
     "text": [
      "0 [226, 97, 157, 186]\n",
      "1 [223, 186, 136, 130]\n",
      "2 [128, 195, 214, 124]\n",
      "3 [148, 131, 222, 204]\n",
      "427 [196, 198, 172, 219]\n",
      "993 [173, 193, 196, 216]\n"
     ]
    }
   ],
   "source": [
    "# figure out if any of the pieces are malformed\n",
    "for i, piece in enumerate(pieces):\n",
    "    limit = 20\n",
    "    lengths = [len(edge) for edge in piece.edges]\n",
    "    if abs(lengths[0] - lengths[2]) > limit and abs(lengths[1] - lengths[3]) > limit:\n",
    "        print(i, lengths)"
   ]
  },
  {
   "cell_type": "code",
   "execution_count": 6,
   "metadata": {},
   "outputs": [],
   "source": [
    "puzzle = Puzzle(pieces, (40, 25))\n",
    "puzzle.place_piece(0, 0, 0, 2)"
   ]
  },
  {
   "cell_type": "code",
   "execution_count": 7,
   "metadata": {},
   "outputs": [
    {
     "data": {
      "application/vnd.jupyter.widget-view+json": {
       "model_id": "be5267131dac4a0783d28c8c62d5872b",
       "version_major": 2,
       "version_minor": 0
      },
      "text/plain": [
       "interactive(children=(IntSlider(value=12, description='x', max=24), IntSlider(value=20, description='y', max=4…"
      ]
     },
     "metadata": {},
     "output_type": "display_data"
    }
   ],
   "source": [
    "@interact(x=(0, 24), y=(0, 40), piece=(0, len(pieces)-1), j=(0, 3))\n",
    "def visualize_match(x, y, piece, j):\n",
    "    edges, _ = puzzle.get_pocket(x, y)\n",
    "    piece_edges = pieces[piece].normalized_edges\n",
    "    piece_edges = piece_edges[j:] + piece_edges[:j]\n",
    "\n",
    "    fig, ax = plt.subplots(2, 2)\n",
    "    fig.set_size_inches(13, 8)\n",
    "    ax = ax.flatten()\n",
    "\n",
    "    for i in range(4):\n",
    "        ax[i].plot(piece_edges[i][:, 0], piece_edges[i][:, 1])\n",
    "        if edges[i] is None:\n",
    "            continue\n",
    "        ax[i].plot(edges[i][:, 0], edges[i][:, 1])\n",
    "    \n",
    "    plt.show()\n",
    "\n",
    "def visualize_edge(x, y, piece, i, j):\n",
    "    edges, _ = puzzle.get_pocket(x, y)\n",
    "    piece_edges = pieces[piece].normalized_edges\n",
    "    piece_edges = piece_edges[j:] + piece_edges[:j]\n",
    "\n",
    "    fig, ax = plt.subplots()\n",
    "    ax.set_aspect('equal')\n",
    "    fig.set_size_inches(13, 8)\n",
    "\n",
    "    ax.plot(piece_edges[i][:, 0], piece_edges[i][:, 1])\n",
    "    if not edges[i] is None:\n",
    "        ax.plot(edges[i][:, 0], edges[i][:, 1])\n"
   ]
  },
  {
   "cell_type": "code",
   "execution_count": 21,
   "metadata": {},
   "outputs": [
    {
     "name": "stdout",
     "output_type": "stream",
     "text": [
      "[[813   0]\n",
      " [367   2]\n",
      " [423   2]\n",
      " [665   2]\n",
      " [666   0]\n",
      " [178   2]\n",
      " [617   0]\n",
      " [541   2]\n",
      " [835   0]\n",
      " [453   0]]\n",
      "[ 480.30750873 1654.44986433 1733.97031086 1799.08785623 1856.25450939\n",
      " 1861.39521097 1941.22040362 2101.00957084 2174.72494705 2227.77129934]\n"
     ]
    }
   ],
   "source": [
    "x = 2\n",
    "y = 1\n",
    "indices, scores = puzzle.solve_piece(x, y)\n",
    "print(indices)\n",
    "print(scores)"
   ]
  },
  {
   "cell_type": "code",
   "execution_count": 17,
   "metadata": {},
   "outputs": [
    {
     "data": {
      "application/vnd.jupyter.widget-view+json": {
       "model_id": "c3a9888f454942b5b3c62a0465d08265",
       "version_major": 2,
       "version_minor": 0
      },
      "text/plain": [
       "interactive(children=(IntSlider(value=0, description='i', max=9), Output()), _dom_classes=('widget-interact',)…"
      ]
     },
     "metadata": {},
     "output_type": "display_data"
    }
   ],
   "source": [
    "@interact(i=(0,9))\n",
    "def visualize(i=0):\n",
    "    visualize_match(x, y, indices[i, 0], indices[i, 1])"
   ]
  },
  {
   "cell_type": "code",
   "execution_count": 10,
   "metadata": {},
   "outputs": [
    {
     "data": {
      "application/vnd.jupyter.widget-view+json": {
       "model_id": "1eccc5d1e46e401596c3d28f8bd4e01e",
       "version_major": 2,
       "version_minor": 0
      },
      "text/plain": [
       "interactive(children=(IntSlider(value=0, description='i', max=9), IntSlider(value=0, description='j', max=3), …"
      ]
     },
     "metadata": {},
     "output_type": "display_data"
    }
   ],
   "source": [
    "@interact(i=(0,9), j=(0,3))\n",
    "def visualize(i=0, j=0):\n",
    "    visualize_edge(x, y, indices[i, 0], j, indices[i, 1])"
   ]
  },
  {
   "cell_type": "code",
   "execution_count": 20,
   "metadata": {},
   "outputs": [],
   "source": [
    "i = 0\n",
    "puzzle.place_piece(x, y, indices[i, 0], indices[i, 1])"
   ]
  }
 ],
 "metadata": {
  "kernelspec": {
   "display_name": "Python 3",
   "language": "python",
   "name": "python3"
  },
  "language_info": {
   "codemirror_mode": {
    "name": "ipython",
    "version": 3
   },
   "file_extension": ".py",
   "mimetype": "text/x-python",
   "name": "python",
   "nbconvert_exporter": "python",
   "pygments_lexer": "ipython3",
   "version": "3.11.3"
  },
  "orig_nbformat": 4
 },
 "nbformat": 4,
 "nbformat_minor": 2
}
