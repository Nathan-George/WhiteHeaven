{
 "cells": [
  {
   "cell_type": "markdown",
   "metadata": {},
   "source": [
    "# Let's solve a puzzle!\n",
    "\n",
    "By Nathan George"
   ]
  },
  {
   "cell_type": "code",
   "execution_count": 1,
   "metadata": {},
   "outputs": [],
   "source": [
    "import cv2\n",
    "import numpy as np\n",
    "import matplotlib.pyplot as plt\n",
    "\n",
    "import os\n",
    "os.chdir('C:\\\\Users\\\\nbg05\\\\Local Documents\\\\Projects\\WhiteHeaven')\n",
    "\n",
    "from ipywidgets import interact\n",
    "from tqdm import tqdm"
   ]
  },
  {
   "cell_type": "code",
   "execution_count": 2,
   "metadata": {},
   "outputs": [],
   "source": [
    "# load the dataset\n",
    "comparison_scores_dataset = np.load('puzzle/data/comparison_scores.npy')\n",
    "\n",
    "num_pieces = comparison_scores_dataset.shape[0]\n",
    "side_indices = [(piece, i) for i in range(4) for piece in range(num_pieces)]"
   ]
  },
  {
   "cell_type": "code",
   "execution_count": 3,
   "metadata": {},
   "outputs": [],
   "source": [
    "# generate a copy we can modify\n",
    "working_comparison_scores = comparison_scores_dataset.copy()\n",
    "\n",
    "for piece1, i1 in side_indices:\n",
    "    for piece2, i2 in side_indices:\n",
    "        max_score = max(working_comparison_scores[piece1, i1, piece2, i2], working_comparison_scores[piece2, i2, piece1, i1])\n",
    "        working_comparison_scores[piece1, i1, piece2, i2] = max_score\n",
    "        working_comparison_scores[piece2, i2, piece1, i1] = max_score"
   ]
  },
  {
   "cell_type": "code",
   "execution_count": 16,
   "metadata": {},
   "outputs": [],
   "source": [
    "\n",
    "def get_match_subscore(piece1, side1, piece2, side2, comparison_scores, depth=10, side_sorts=None):\n",
    "    \"\"\"gets half of the score for the match between two sides\n",
    "    \"\"\"\n",
    "    \n",
    "    # rotate the sides\n",
    "    side1 = (side1 + 1) % 4\n",
    "    side2 = (side2 + 3) % 4\n",
    "    \n",
    "    scores1 = comparison_scores[piece1, side1, :, :]\n",
    "    scores2 = comparison_scores[piece2, side2, :, :]\n",
    "    \n",
    "    if side_sorts is None:\n",
    "        sort_scores1 = np.stack(np.unravel_index(np.argsort(scores1.flatten())[:depth], scores1.shape), axis=1)\n",
    "        sort_scores2 = np.stack(np.unravel_index(np.argsort(scores2.flatten())[:depth], scores2.shape), axis=1)\n",
    "    else:\n",
    "        sort_scores1 = side_sorts[piece1, side1, :depth]\n",
    "        sort_scores2 = side_sorts[piece2, side2, :depth]\n",
    "    \n",
    "    # check for edge pieces\n",
    "    is_edge1 = scores1[sort_scores1[0, 0], sort_scores1[0, 1]] == np.inf\n",
    "    is_edge2 = scores2[sort_scores2[0, 0], sort_scores2[0, 1]] == np.inf\n",
    "    if is_edge1 and is_edge2:\n",
    "        return 0, 0\n",
    "    if is_edge1 or is_edge2:\n",
    "        return np.inf, 0\n",
    "    \n",
    "    best_score = np.inf\n",
    "    for piece11, side11 in sort_scores1:\n",
    "        # if scores1[piece11, side11] == np.inf:\n",
    "        #     break\n",
    "        for piece22, side22 in sort_scores2:\n",
    "            # if scores2[piece22, side22] == np.inf:\n",
    "            #     break\n",
    "            score = scores1[piece11, side11] + scores2[piece22, side22]\n",
    "            side11 = (side11 + 1) % 4\n",
    "            side22 = (side22 + 3) % 4\n",
    "            score += working_comparison_scores[piece11, side11, piece22, side22]\n",
    "            \n",
    "            if score < best_score:\n",
    "                best_score = score\n",
    "    \n",
    "    return best_score, 3\n",
    "\n",
    "def get_match_score(piece1, edge1, piece2, edge2, comparison_scores, depth=10, side_sorts=None):\n",
    "    \"\"\"uses the 3x2 rectangle of pieces around the edge to get how well an edge matches with another edge\n",
    "    \"\"\"\n",
    "    \n",
    "    num_comparisons = 1\n",
    "    \n",
    "    score = comparison_scores[piece1, edge1, piece2, edge2]\n",
    "    subscore, num = get_match_subscore(piece1, edge1, piece2, edge2, comparison_scores, depth, side_sorts)\n",
    "    score += subscore\n",
    "    num_comparisons += num\n",
    "    subscore, num = get_match_subscore(piece2, edge2, piece1, edge1, comparison_scores, depth, side_sorts)\n",
    "    score += subscore\n",
    "    num_comparisons += num\n",
    "    \n",
    "    return score / num_comparisons"
   ]
  },
  {
   "cell_type": "code",
   "execution_count": 5,
   "metadata": {},
   "outputs": [],
   "source": [
    "def get_compound_comparison_scores(piece, i, comparison_scores, side_sorts=None, depth=10, end=100):\n",
    "    \"\"\"gets the comparison scores for the 3x2 rectangle of pieces around the edge\n",
    "    \"\"\"\n",
    "    \n",
    "    # sort the simple scores so we don't have to\n",
    "    if side_sorts is None:\n",
    "        scores = comparison_scores[piece, i, :, :]\n",
    "        indices = np.stack(np.unravel_index(np.argsort(scores.flatten()), scores.shape), axis=1)\n",
    "    else:\n",
    "        indices = side_sorts[piece, i]\n",
    "\n",
    "    compound_scores = np.full((num_pieces, 4), np.inf, dtype=np.float32)\n",
    "\n",
    "    for piece_, i_ in indices[:end]:\n",
    "        compound_scores[piece_, i_] = get_match_score(piece, i, piece_, i_, comparison_scores=comparison_scores, depth=depth, side_sorts=side_sorts)\n",
    "    \n",
    "    return compound_scores"
   ]
  },
  {
   "cell_type": "code",
   "execution_count": 6,
   "metadata": {},
   "outputs": [],
   "source": [
    "def compute_confidence(scores):\n",
    "    scores_flat = scores.flatten()\n",
    "    sort = np.argsort(scores_flat)\n",
    "    scores_sorted = scores_flat[sort]\n",
    "    \n",
    "    if scores_sorted[3] == np.inf:\n",
    "        return 0\n",
    "    \n",
    "    return (scores_sorted[1] - scores_sorted[0]) / scores_sorted[0]\n",
    "\n",
    "def get_best_indices(scores):\n",
    "    scores_flat = scores.flatten()\n",
    "    sort = np.argsort(scores_flat)\n",
    "    indices = np.stack(np.unravel_index(sort, scores.shape), axis=1)\n",
    "    \n",
    "    return indices[0]"
   ]
  },
  {
   "cell_type": "code",
   "execution_count": 72,
   "metadata": {},
   "outputs": [],
   "source": [
    "def get_best_matches(compound_comparisons, indices_remaining):\n",
    "    num_pieces = compound_comparisons.shape[0]\n",
    "    \n",
    "    # gets the 2 smallest scores for each piece\n",
    "    top_matches = np.stack(\n",
    "        np.unravel_index(\n",
    "            np.argpartition(compound_comparisons.reshape(num_pieces, 4, -1), kth=1, axis=-1)[:, :, :2], \n",
    "            (num_pieces, 4)), \n",
    "        axis=-1)\n",
    "\n",
    "    confidence = np.full((num_pieces, 4), 0, dtype=np.float32)\n",
    "    for piece, i in indices_remaining:\n",
    "        best_score = compound_comparisons[piece, i, top_matches[piece, i, 0, 0], top_matches[piece, i, 0, 1]]\n",
    "        next_score = compound_comparisons[piece, i, top_matches[piece, i, 1, 0], top_matches[piece, i, 1, 1]]\n",
    "        if next_score == np.inf:\n",
    "            confidence[piece, i] = 0\n",
    "            continue\n",
    "        confidence[piece, i] = (next_score - best_score) / best_score\n",
    "    \n",
    "    top_matches = top_matches[:, :, 0, :]\n",
    "    \n",
    "    best_matches = []\n",
    "    best_matches_confidence = []\n",
    "    \n",
    "    indices_used = set()\n",
    "    for piece, i in indices_remaining:\n",
    "        if (piece, i) in indices_used:\n",
    "            continue\n",
    "        \n",
    "        best_match = (top_matches[piece, i, 0], top_matches[piece, i, 1])\n",
    "        other_match = (top_matches[best_match][0], top_matches[best_match][1])\n",
    "\n",
    "        # this piece is the best match for the other piece\n",
    "        if other_match != (piece, i):\n",
    "            continue\n",
    "        \n",
    "        best_matches.append([piece, i, best_match[0], best_match[1]])\n",
    "        best_matches_confidence.append(min(confidence[piece, i], confidence[best_match]))\n",
    "        \n",
    "        indices_used.add(best_match)\n",
    "    \n",
    "    best_matches = np.array(best_matches)\n",
    "    best_matches_confidence = np.array(best_matches_confidence)\n",
    "    \n",
    "    sort = np.argsort(best_matches_confidence)[::-1]\n",
    "    \n",
    "    return best_matches[sort], best_matches_confidence[sort]"
   ]
  },
  {
   "cell_type": "code",
   "execution_count": 7,
   "metadata": {},
   "outputs": [],
   "source": [
    "dumps = {}"
   ]
  },
  {
   "cell_type": "code",
   "execution_count": 73,
   "metadata": {},
   "outputs": [],
   "source": [
    "solved_pairs = np.zeros((num_pieces, 4, 2), dtype=np.int32)\n",
    "\n",
    "def solve_side_pairs(original_comparison_scores, num_pieces, sides_per_batch=100):\n",
    "    # sort scores_sorted\n",
    "    # compute the compound comparisons for all of the sides\n",
    "    # take the 100 edges with the highest confidence and add them to the side_pairs\n",
    "    # modify the working_comparison_scores to remove edges which are not possible\n",
    "    # resort scores_sorted\n",
    "    # compute the compound comparisons for all of the remaining sides\n",
    "    # repeat until all of the sides are filled\n",
    "    \n",
    "    working_comparison_scores = original_comparison_scores.copy()\n",
    "    \n",
    "    # goal is to fill this with the best matches\n",
    "    #side_pairs = np.zeros((num_pieces, 4, 2), dtype=np.int32)\n",
    "    \n",
    "    indices_remaining = [(piece, i) for piece in range(num_pieces) for i in range(4)]\n",
    "    \n",
    "    # remove the edges\n",
    "    edges = []\n",
    "    for piece, i in indices_remaining:\n",
    "        if np.min(working_comparison_scores[piece, i, :, :]) == np.inf:\n",
    "            edges.append((piece, i))\n",
    "    \n",
    "    for edge in edges:\n",
    "        indices_remaining.remove(edge)\n",
    "    \n",
    "    \n",
    "    while len(indices_remaining) > 0:\n",
    "    \n",
    "        # sort\n",
    "        depth = 10\n",
    "        \n",
    "        sort_depth = 50\n",
    "        side_sorts = np.zeros((num_pieces, 4, sort_depth, 2), dtype=np.int32)\n",
    "        for piece in range(num_pieces):\n",
    "            for side in range(4):\n",
    "                scores = working_comparison_scores[piece, side, :, :]\n",
    "                side_sorts[piece, side] = np.stack(np.unravel_index(np.argsort(scores.flatten())[:sort_depth], scores.shape), axis=1)\n",
    "\n",
    "        # compute compound comparisons\n",
    "        compound_comparisons = np.full((num_pieces, 4, num_pieces, 4), np.inf, dtype=np.float32)\n",
    "        for piece, i in tqdm(indices_remaining, 'compound comparisons'):\n",
    "            compound_comparisons[piece, i] = get_compound_comparison_scores(piece, i, comparison_scores=working_comparison_scores, side_sorts=side_sorts, depth=depth, end=sort_depth)\n",
    "        \n",
    "        # get the best matches\n",
    "        matches, confidence = get_best_matches(compound_comparisons, indices_remaining)\n",
    "        \n",
    "        # add the 100 best matches to the side_pairs\n",
    "        i = 0\n",
    "        while i < sides_per_batch and i < len(matches):\n",
    "            piece, side, other_piece, other_side = matches[i]\n",
    "            assert (piece, side) in indices_remaining\n",
    "            assert (other_piece, other_side) in indices_remaining\n",
    "            \n",
    "            solved_pairs[piece, side] = [other_piece, other_side]\n",
    "            solved_pairs[other_piece, other_side] = [piece, side]\n",
    "                    \n",
    "            \n",
    "            indices_remaining.remove((piece, side))\n",
    "            indices_remaining.remove((other_piece, other_side))\n",
    "            \n",
    "            # modify the working_comparison_scores to remove edges which are not possible\n",
    "            score = working_comparison_scores[piece, side, other_piece, other_side]\n",
    "            working_comparison_scores[piece, side, :, :] = np.inf\n",
    "            working_comparison_scores[:, :, piece, side] = np.inf\n",
    "            working_comparison_scores[other_piece, other_side, :, :] = np.inf\n",
    "            working_comparison_scores[:, :, other_piece, other_side] = np.inf\n",
    "            working_comparison_scores[piece, side, other_piece, other_side] = score\n",
    "            working_comparison_scores[other_piece, other_side, piece, side] = score\n",
    "            \n",
    "            i += 1\n",
    "    \n",
    "    return solved_pairs"
   ]
  },
  {
   "cell_type": "code",
   "execution_count": 74,
   "metadata": {},
   "outputs": [
    {
     "name": "stderr",
     "output_type": "stream",
     "text": [
      "compound comparisons: 100%|██████████| 3870/3870 [00:48<00:00, 79.34it/s]\n",
      "compound comparisons: 100%|██████████| 3670/3670 [00:41<00:00, 88.30it/s]\n",
      "compound comparisons: 100%|██████████| 3470/3470 [00:39<00:00, 88.47it/s]\n",
      "compound comparisons: 100%|██████████| 3270/3270 [00:36<00:00, 88.51it/s]\n",
      "compound comparisons: 100%|██████████| 3070/3070 [00:34<00:00, 88.40it/s]\n",
      "compound comparisons: 100%|██████████| 2870/2870 [00:33<00:00, 86.49it/s]\n",
      "compound comparisons: 100%|██████████| 2670/2670 [00:30<00:00, 88.08it/s]\n",
      "compound comparisons: 100%|██████████| 2470/2470 [00:28<00:00, 87.22it/s]\n",
      "compound comparisons: 100%|██████████| 2270/2270 [00:26<00:00, 87.29it/s]\n",
      "compound comparisons: 100%|██████████| 2070/2070 [00:23<00:00, 88.66it/s]\n",
      "compound comparisons: 100%|██████████| 1870/1870 [00:20<00:00, 89.70it/s]\n",
      "compound comparisons: 100%|██████████| 1670/1670 [00:18<00:00, 88.74it/s]\n",
      "compound comparisons: 100%|██████████| 1470/1470 [00:16<00:00, 88.32it/s]\n",
      "compound comparisons: 100%|██████████| 1270/1270 [00:14<00:00, 89.14it/s]\n",
      "compound comparisons: 100%|██████████| 1070/1070 [00:11<00:00, 90.15it/s]\n",
      "compound comparisons: 100%|██████████| 870/870 [00:09<00:00, 91.07it/s] \n",
      "compound comparisons: 100%|██████████| 670/670 [00:07<00:00, 91.53it/s] \n",
      "compound comparisons: 100%|██████████| 470/470 [00:05<00:00, 92.03it/s]\n",
      "compound comparisons: 100%|██████████| 270/270 [00:02<00:00, 91.64it/s]\n",
      "compound comparisons: 100%|██████████| 70/70 [00:00<00:00, 87.93it/s] \n",
      "compound comparisons: 100%|██████████| 6/6 [00:00<00:00, 103.92it/s]\n",
      "compound comparisons: 100%|██████████| 2/2 [00:00<00:00, 79.10it/s]\n"
     ]
    }
   ],
   "source": [
    "best_pairs = solve_side_pairs(working_comparison_scores, num_pieces, sides_per_batch=100)"
   ]
  },
  {
   "cell_type": "code",
   "execution_count": 19,
   "metadata": {},
   "outputs": [],
   "source": [
    "\n",
    "#unpack dumps\n",
    "dumps_location = dumps['location']\n",
    "dumps_indices_remaining = dumps['indices_remaining']\n",
    "dumps_working_comparison_scores = dumps['working_comparison_scores']\n",
    "dumps_side_sorts = dumps['side_sorts']\n",
    "dumps_compound_comparisons = dumps['compound_comparisons']\n",
    "dumps_confidence = dumps['confidence']\n",
    "dumps_best_indices = dumps['best_indices']\n"
   ]
  },
  {
   "cell_type": "code",
   "execution_count": 20,
   "metadata": {},
   "outputs": [
    {
     "data": {
      "text/plain": [
       "inf"
      ]
     },
     "execution_count": 20,
     "metadata": {},
     "output_type": "execute_result"
    }
   ],
   "source": [
    "get_match_score(47, 0, 153, 0, dumps_working_comparison_scores, side_sorts=dumps_side_sorts, depth=10)"
   ]
  },
  {
   "cell_type": "code",
   "execution_count": 21,
   "metadata": {},
   "outputs": [],
   "source": [
    "comparisons = get_compound_comparison_scores(47, 0, dumps_working_comparison_scores, side_sorts=None, depth=10, end=100)"
   ]
  },
  {
   "cell_type": "code",
   "execution_count": 79,
   "metadata": {},
   "outputs": [],
   "source": [
    "# use the solved pairs to generate the puzzle\n",
    "# grid of all of the pieces\n",
    "\n",
    "def solve_right_side(puzzle, solved_pairs, x, y):\n",
    "    piece, side = puzzle[y, x-1]\n",
    "    piece, side = solved_pairs[piece, side]\n",
    "    return [piece, (side + 2) % 4]\n",
    "\n",
    "def solve_bottom_side(puzzle, solved_pairs, x, y):\n",
    "    piece, side = puzzle[y-1, x]\n",
    "    piece, side = solved_pairs[piece, (side + 1) % 4]\n",
    "    return [piece, (side + 1) % 4]\n",
    "\n",
    "def solve_puzzle(solved_pairs, init_piece, init_side):\n",
    "    puzzle = np.zeros((40, 25, 2), dtype=np.int32)\n",
    "    puzzle_bitmask = np.zeros((40, 25), dtype=bool)\n",
    "    \n",
    "    puzzle[0, 0] = [init_piece, init_side]\n",
    "    puzzle_bitmask[0, 0] = True\n",
    "    \n",
    "    points = [(y, x) for x in range(25) for y in range(40)]\n",
    "    \n",
    "    for y, x in tqdm(points, 'solving'):\n",
    "        \n",
    "        if y == 0 and x == 0:\n",
    "            continue\n",
    "        \n",
    "        if y != 0 and x != 0 and puzzle_bitmask[y-1, x] and puzzle_bitmask[y, x-1]:\n",
    "            # check both sides\n",
    "            piece_right = solve_right_side(puzzle, solved_pairs, x, y)\n",
    "            piece_bottom = solve_bottom_side(puzzle, solved_pairs, x, y)\n",
    "            if not np.array_equal(piece_right, piece_bottom):\n",
    "                continue\n",
    "            \n",
    "            puzzle[y, x] = piece_right\n",
    "            puzzle_bitmask[y, x] = True\n",
    "        \n",
    "        if y == 0 or puzzle_bitmask[y, x-1]:\n",
    "            # side is the right side of the piece\n",
    "            puzzle[y, x] = solve_right_side(puzzle, solved_pairs, x, y)\n",
    "            puzzle_bitmask[y, x] = True\n",
    "            continue\n",
    "        \n",
    "        if x == 0 or puzzle_bitmask[y-1, x]:\n",
    "            puzzle[y, x] = solve_bottom_side(puzzle, solved_pairs, x, y)\n",
    "            puzzle_bitmask[y, x] = True\n",
    "            continue\n",
    "    \n",
    "    return puzzle"
   ]
  },
  {
   "cell_type": "code",
   "execution_count": 80,
   "metadata": {},
   "outputs": [
    {
     "name": "stderr",
     "output_type": "stream",
     "text": [
      "solving: 100%|██████████| 1000/1000 [00:00<00:00, 58988.30it/s]\n"
     ]
    }
   ],
   "source": [
    "puzzle = solve_puzzle(best_pairs, 0, 3)"
   ]
  },
  {
   "cell_type": "code",
   "execution_count": 85,
   "metadata": {},
   "outputs": [],
   "source": [
    "# check for duplicates in puzzle\n",
    "puzzle_set = set()\n",
    "for y in range(40):\n",
    "    for x in range(25):\n",
    "        piece, side = puzzle[y, x]\n",
    "        if piece == 0 and side == 0:\n",
    "            continue\n",
    "        if piece in puzzle_set:\n",
    "            print('duplicate')\n",
    "        puzzle_set.add(piece)"
   ]
  },
  {
   "cell_type": "code",
   "execution_count": 86,
   "metadata": {},
   "outputs": [],
   "source": [
    "# save the puzzle\n",
    "np.save('puzzle/data/puzzle_solved.npy', puzzle)"
   ]
  },
  {
   "cell_type": "code",
   "execution_count": 87,
   "metadata": {},
   "outputs": [],
   "source": [
    "puzzle_pieces = puzzle[:, :, 0]\n",
    "puzzle_pieces = puzzle_pieces.T"
   ]
  },
  {
   "cell_type": "code",
   "execution_count": 90,
   "metadata": {},
   "outputs": [
    {
     "name": "stdout",
     "output_type": "stream",
     "text": [
      "[275, 1] [901, 2]\n"
     ]
    }
   ],
   "source": [
    "piece_right = solve_right_side(puzzle, solved_pairs, 20, 38)\n",
    "piece_bottom = solve_bottom_side(puzzle, solved_pairs, 20, 38)\n",
    "\n",
    "print(piece_right, piece_bottom)"
   ]
  },
  {
   "cell_type": "code",
   "execution_count": 91,
   "metadata": {},
   "outputs": [],
   "source": [
    "# fix missing pieces\n",
    "puzzle_copy = puzzle.copy()\n",
    "puzzle_copy[26, 24] = [15, 3]\n",
    "puzzle_copy[38, 20] = [901, 2]"
   ]
  },
  {
   "cell_type": "code",
   "execution_count": 92,
   "metadata": {},
   "outputs": [],
   "source": [
    "np.save('puzzle/data/puzzle_solved.npy', puzzle_copy)"
   ]
  }
 ],
 "metadata": {
  "kernelspec": {
   "display_name": "Python 3",
   "language": "python",
   "name": "python3"
  },
  "language_info": {
   "codemirror_mode": {
    "name": "ipython",
    "version": 3
   },
   "file_extension": ".py",
   "mimetype": "text/x-python",
   "name": "python",
   "nbconvert_exporter": "python",
   "pygments_lexer": "ipython3",
   "version": "3.11.3"
  },
  "orig_nbformat": 4
 },
 "nbformat": 4,
 "nbformat_minor": 2
}
