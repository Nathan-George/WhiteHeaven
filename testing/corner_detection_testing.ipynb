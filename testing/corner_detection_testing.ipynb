{
 "cells": [
  {
   "attachments": {},
   "cell_type": "markdown",
   "metadata": {},
   "source": [
    "# Optimizing corner detection"
   ]
  },
  {
   "cell_type": "code",
   "execution_count": 9,
   "metadata": {},
   "outputs": [],
   "source": [
    "import numpy as np\n",
    "import cv2\n",
    "import matplotlib.pyplot as plt\n",
    "\n",
    "import os\n",
    "\n",
    "from ipywidgets import interact"
   ]
  },
  {
   "cell_type": "code",
   "execution_count": 10,
   "metadata": {},
   "outputs": [],
   "source": [
    "# we need to access the points of the contour in a circular manner\n",
    "def get_circular(contour, index):\n",
    "    \"\"\"Gets the point at the index of the contour, \n",
    "    but wraps around if the index is out of bounds\n",
    "\n",
    "    Args:\n",
    "        contour (np.array(len, 2)): array of points\n",
    "        index (int): index of the point to get\n",
    "\n",
    "    Returns:\n",
    "        np.array(2): the point\n",
    "    \"\"\"\n",
    "    # make sure index is positive\n",
    "    index = index % len(contour) + len(contour)\n",
    "    return contour[index % len(contour)]\n",
    "\n",
    "def get_slice_circular(contour, start, end):\n",
    "    \"\"\"Gets the slice of the contour from start to end, but\n",
    "    wraps around if the index is out of bounds\n",
    "\n",
    "    Args:\n",
    "        contour (np.array(len, 2)): array of points\n",
    "        start (int): index of the start of the slice, may be negative\n",
    "        end (int): index of the end of the slice, may be negative\n",
    "\n",
    "    Returns:\n",
    "        np.array(end-start, 2): array of points that make up the slice\n",
    "    \"\"\"\n",
    "    \n",
    "    # make sure start and end are positive\n",
    "    start = start % len(contour)\n",
    "    end = end % len(contour)\n",
    "    if start < 0:\n",
    "        start += len(contour)\n",
    "    if end < 0:\n",
    "        end += len(contour)\n",
    "    \n",
    "    # make sure end is larger than start\n",
    "    if end < start:\n",
    "        end += len(contour)\n",
    "    \n",
    "    if end > len(contour):\n",
    "        return np.concatenate((contour[start:], contour[:end - len(contour)]))\n",
    "    \n",
    "    return contour[start:end]\n",
    "\n",
    "def get_contour(puzzle_piece_img):\n",
    "    \"\"\"gets the contour of the puzzle piece\n",
    "\n",
    "    Args:\n",
    "        puzzle_piece_img (Mat): image of the puzzle piece\n",
    "\n",
    "    Returns:\n",
    "        np.array(len, 2): list of points that make up the contour\n",
    "    \"\"\"\n",
    "    img_gray = cv2.cvtColor(puzzle_piece_img, cv2.COLOR_BGR2GRAY)\n",
    "    # Threshold the image\n",
    "    _, img_thresh = cv2.threshold(img_gray, 200, 255, cv2.THRESH_BINARY)\n",
    "    contours, _ = cv2.findContours(img_thresh, cv2.RETR_EXTERNAL, cv2.CHAIN_APPROX_NONE)\n",
    "    contours = sorted(contours, key=cv2.contourArea, reverse=True)\n",
    "    \n",
    "    return contours[0][:, 0, :]"
   ]
  },
  {
   "cell_type": "code",
   "execution_count": 24,
   "metadata": {},
   "outputs": [
    {
     "data": {
      "application/vnd.jupyter.widget-view+json": {
       "model_id": "941cca73b3394ca6825b4c709653ed19",
       "version_major": 2,
       "version_minor": 0
      },
      "text/plain": [
       "interactive(children=(IntSlider(value=499, description='index', max=999), Output()), _dom_classes=('widget-int…"
      ]
     },
     "metadata": {},
     "output_type": "display_data"
    }
   ],
   "source": [
    "# create a list of all the images in the folder\n",
    "\n",
    "# Gets the puzzle piece image\n",
    "def get_piece_image(path):\n",
    "    # images are of the format piece#.png\n",
    "    img = cv2.imread(path)\n",
    "    return img\n",
    "\n",
    "piece_dir = '../dataset/pieces-clean'\n",
    "image_files = os.listdir(piece_dir)\n",
    "image_files = sorted(image_files, key=lambda x: int(x[5:-4]))\n",
    "\n",
    "# load all off the images\n",
    "piece_images = []\n",
    "for i in range(len(image_files)):\n",
    "    piece_images.append( get_piece_image(os.path.join(piece_dir, image_files[i])) )\n",
    "    \n",
    "@interact(index=(0, len(piece_images) - 1))\n",
    "def view_piece(index):\n",
    "    plt.imshow(piece_images[index])\n",
    "    plt.show()"
   ]
  },
  {
   "cell_type": "code",
   "execution_count": 25,
   "metadata": {},
   "outputs": [
    {
     "data": {
      "application/vnd.jupyter.widget-view+json": {
       "model_id": "5c6b22d44aae45cbafb7bfd45e487c0c",
       "version_major": 2,
       "version_minor": 0
      },
      "text/plain": [
       "interactive(children=(IntSlider(value=499, description='index', max=999), Output()), _dom_classes=('widget-int…"
      ]
     },
     "metadata": {},
     "output_type": "display_data"
    }
   ],
   "source": [
    "piece_contours = []\n",
    "for i in range(len(piece_images)):\n",
    "    piece_contours.append(get_contour(piece_images[i]))\n",
    "\n",
    "@interact(index=(0, len(piece_contours) - 1))\n",
    "def visualize_contour(index):\n",
    "    plt.plot(piece_contours[index][:, 0], piece_contours[index][:, 1])\n",
    "    plt.show()"
   ]
  },
  {
   "attachments": {},
   "cell_type": "markdown",
   "metadata": {},
   "source": [
    "Testing different corner indicators and parameters to find the best combination."
   ]
  },
  {
   "cell_type": "code",
   "execution_count": 13,
   "metadata": {},
   "outputs": [
    {
     "data": {
      "application/vnd.jupyter.widget-view+json": {
       "model_id": "04823bc386dd496993154d4f14ed6c61",
       "version_major": 2,
       "version_minor": 0
      },
      "text/plain": [
       "interactive(children=(IntSlider(value=499, description='index', max=999), Output()), _dom_classes=('widget-int…"
      ]
     },
     "metadata": {},
     "output_type": "display_data"
    }
   ],
   "source": [
    "# angle indicator\n",
    "def get_angle_indicators(contour, window_size=5):\n",
    "    \"\"\"Gets the angle indicators for the puzzle piece. The angle indicators are the\n",
    "    angles between vectors along the contour of the puzzle piece.\n",
    "\n",
    "    Returns:\n",
    "        np.array(len(contour)): array of angles\n",
    "    \"\"\"\n",
    "    \n",
    "    angle_indicators = np.zeros(len(contour))\n",
    "    for i in range(len(contour)):\n",
    "        point = get_circular(contour, i)\n",
    "        start  = get_circular(contour, i - window_size)\n",
    "        end = get_circular(contour, i + window_size)\n",
    "        \n",
    "        vec_start = point - start\n",
    "        vec_end = end - point\n",
    "        angle_indicators[i] = np.arctan2(np.cross(vec_end, vec_start), np.dot(vec_end, vec_start))\n",
    "    \n",
    "    return angle_indicators\n",
    "\n",
    "# test the angle indicator\n",
    "for i in range(len(piece_contours)):\n",
    "    try:\n",
    "        get_angle_indicators(piece_contours[i])\n",
    "    except:\n",
    "        print(i)\n",
    "    \n",
    "@interact(index=(0, len(piece_images) - 1))\n",
    "def view_angle_indicators(index):\n",
    "    plt.plot(get_angle_indicators(piece_contours[index]))\n",
    "    plt.show()"
   ]
  },
  {
   "cell_type": "code",
   "execution_count": 26,
   "metadata": {},
   "outputs": [
    {
     "data": {
      "application/vnd.jupyter.widget-view+json": {
       "model_id": "e85b21c2c0354db99fcbe35547aa60c8",
       "version_major": 2,
       "version_minor": 0
      },
      "text/plain": [
       "interactive(children=(IntSlider(value=499, description='index', max=999), Output()), _dom_classes=('widget-int…"
      ]
     },
     "metadata": {},
     "output_type": "display_data"
    }
   ],
   "source": [
    "# center indicator\n",
    "def get_center_indicators(contour, window_size=5):\n",
    "    \"\"\"Gets the center indicators for the puzzle piece. The center indicators indicate how\n",
    "    well a corner contains the center of the puzzle piece. The center is defined as the point (200, 200)\n",
    "\n",
    "    Returns:\n",
    "        np.array(len(contour)): array of distances\n",
    "    \"\"\"\n",
    "    \n",
    "    center = np.array([200, 200])\n",
    "    center_indicators = np.zeros(len(contour))\n",
    "    for i in range(len(contour)):\n",
    "        point = get_circular(contour, i)\n",
    "        start  = get_circular(contour, i - window_size)\n",
    "        end = get_circular(contour, i + window_size)\n",
    "        \n",
    "        vec_start = point - start\n",
    "        vec_end = end - point\n",
    "        vec_center = center - point\n",
    "        \n",
    "        # rotate vec_start by 135 degrees clockwise and vec_end by 45 degrees clockwise\n",
    "        theta = -np.pi * 3 / 4\n",
    "        rot = np.array([[np.cos(theta), -np.sin(theta)], [np.sin(theta), np.cos(theta)]])\n",
    "        vec_start = np.dot(rot, vec_start)\n",
    "        theta = -np.pi / 4\n",
    "        rot = np.array([[np.cos(theta), -np.sin(theta)], [np.sin(theta), np.cos(theta)]])\n",
    "        vec_end = np.dot(rot, vec_end)\n",
    "        \n",
    "        assert np.linalg.norm(vec_start) > 0\n",
    "        assert np.linalg.norm(vec_end) > 0\n",
    "        assert np.linalg.norm(vec_center) > 0\n",
    "        \n",
    "        center_indicators[i] = (np.dot(vec_start, vec_center) / np.linalg.norm(vec_start) + np.dot(vec_end, vec_center) / np.linalg.norm(vec_end)) / np.linalg.norm(vec_center)\n",
    "\n",
    "    return center_indicators\n",
    "\n",
    "# test the center indicator\n",
    "for i in range(len(piece_contours)):\n",
    "    try:\n",
    "        get_center_indicators(piece_contours[i])\n",
    "    except:\n",
    "        print(i)\n",
    "\n",
    "@interact(index=(0, len(piece_images) - 1))\n",
    "def view_center_indicators(index):\n",
    "    plt.plot(get_center_indicators(piece_contours[index]))\n",
    "    plt.show()"
   ]
  },
  {
   "cell_type": "code",
   "execution_count": 15,
   "metadata": {},
   "outputs": [
    {
     "data": {
      "application/vnd.jupyter.widget-view+json": {
       "model_id": "a2dd854d693144dca0d5f9dc0f0cb4c7",
       "version_major": 2,
       "version_minor": 0
      },
      "text/plain": [
       "interactive(children=(IntSlider(value=499, description='index', max=999), Output()), _dom_classes=('widget-int…"
      ]
     },
     "metadata": {},
     "output_type": "display_data"
    }
   ],
   "source": [
    "# distance indicator\n",
    "def get_distance_indicators(contour, window_size=5):\n",
    "    \"\"\"Gets the distance indicators for a contour. Tge distance indicators indicate how\n",
    "    much further away the corner is from the center of the puzzle piece compared to its\n",
    "    neighbors. The center is assumed to be the point (200, 200)\n",
    "\n",
    "    Args:\n",
    "        contour (_type_): _description_\n",
    "        window_size (int, optional): _description_. Defaults to 5.\n",
    "    \"\"\"\n",
    "    \n",
    "    center = np.array([200, 200])\n",
    "    distance_indicators = np.zeros(len(contour))\n",
    "    for i in range(len(contour)):\n",
    "        point = get_circular(contour, i)\n",
    "        start  = get_circular(contour, i - window_size)\n",
    "        end = get_circular(contour, i + window_size)\n",
    "        \n",
    "        distance = np.linalg.norm(point - center)\n",
    "        \n",
    "        distance_indicators[i] = 2*distance - np.linalg.norm(start - center) - np.linalg.norm(end - center)\n",
    "    \n",
    "    return distance_indicators\n",
    "\n",
    "# test the distance indicator\n",
    "for i in range(len(piece_contours)):\n",
    "    try:\n",
    "        get_distance_indicators(piece_contours[i])\n",
    "    except:\n",
    "        print(i)\n",
    "\n",
    "@interact(index=(0, len(piece_images) - 1))\n",
    "def view_distance_indicators(index):\n",
    "    plt.plot(get_distance_indicators(piece_contours[index]))\n",
    "    plt.show()"
   ]
  },
  {
   "cell_type": "code",
   "execution_count": 16,
   "metadata": {},
   "outputs": [
    {
     "data": {
      "application/vnd.jupyter.widget-view+json": {
       "model_id": "e87259bf5fb244d8a03afafb1a90baee",
       "version_major": 2,
       "version_minor": 0
      },
      "text/plain": [
       "interactive(children=(IntSlider(value=499, description='index', max=999), Output()), _dom_classes=('widget-int…"
      ]
     },
     "metadata": {},
     "output_type": "display_data"
    }
   ],
   "source": [
    "# show all indicators\n",
    "@interact(index=(0, len(piece_images) - 1))\n",
    "def view_all_indicators(index):\n",
    "    plt.plot(get_angle_indicators(piece_contours[index]), label='angle')\n",
    "    plt.plot(get_center_indicators(piece_contours[index])/2, label='center')\n",
    "    plt.plot(get_distance_indicators(piece_contours[index])/8, label='distance')\n",
    "    plt.legend()"
   ]
  },
  {
   "cell_type": "code",
   "execution_count": 18,
   "metadata": {},
   "outputs": [
    {
     "data": {
      "application/vnd.jupyter.widget-view+json": {
       "model_id": "fb510ad0c66b47b19f6098e7ab7dacd6",
       "version_major": 2,
       "version_minor": 0
      },
      "text/plain": [
       "interactive(children=(IntSlider(value=499, description='index', max=999), FloatSlider(value=1.0, description='…"
      ]
     },
     "metadata": {},
     "output_type": "display_data"
    }
   ],
   "source": [
    "# show all indicators\n",
    "@interact(index=(0, len(piece_images) - 1))\n",
    "def view_all_indicators(index, w1=1.0, w2=0.5, w3=0.2):\n",
    "    angle_indicators = get_angle_indicators(piece_contours[index]) * w1\n",
    "    center_indicators = get_center_indicators(piece_contours[index]) * w2\n",
    "    distance_indicators = get_distance_indicators(piece_contours[index]) * w3\n",
    "    plt.plot(angle_indicators + center_indicators + distance_indicators, label='total')"
   ]
  },
  {
   "attachments": {},
   "cell_type": "markdown",
   "metadata": {},
   "source": [
    "Find out which corner indicator is the best"
   ]
  },
  {
   "cell_type": "code",
   "execution_count": 19,
   "metadata": {},
   "outputs": [],
   "source": [
    "\n",
    "def find_corners(contour, corner_size=40):\n",
    "    \n",
    "    angle_indicators = get_angle_indicators(contour)\n",
    "    center_indicators = get_center_indicators(contour) * 0.5\n",
    "    distance_indicators = get_distance_indicators(contour) * 0.125\n",
    "    \n",
    "    indicators = angle_indicators + center_indicators + distance_indicators\n",
    "    \n",
    "    p_corners = [0]\n",
    "    for i in range(len(indicators)):\n",
    "        if i - p_corners[-1] < corner_size:\n",
    "            \n",
    "            if i - p_corners[0] > len(indicators) - corner_size:\n",
    "                # point is too close to first and last corner\n",
    "                if indicators[i] > indicators[p_corners[-1]] and indicators[i] > indicators[p_corners[0]]:\n",
    "                    # remove first corner\n",
    "                    p_corners = p_corners[1:]\n",
    "                    \n",
    "                    p_corners[-1] = i\n",
    "            \n",
    "            # point is too close to the previous corner\n",
    "            elif indicators[i] > indicators[p_corners[-1]]:\n",
    "                p_corners[-1] = i\n",
    "        \n",
    "        elif i - p_corners[0] > len(indicators) - corner_size:\n",
    "            \n",
    "            # point is too close to the first corner\n",
    "            if indicators[i] > indicators[p_corners[0]]:\n",
    "                # remove first corner\n",
    "                p_corners = p_corners[1:]\n",
    "                \n",
    "                p_corners.append(i)\n",
    "        else:\n",
    "            p_corners.append(i)\n",
    "    \n",
    "    # find the 4 best corners\n",
    "    p_corners = np.array(p_corners)\n",
    "    return np.sort(p_corners[np.argsort(indicators[p_corners])[:-5:-1]])"
   ]
  },
  {
   "cell_type": "code",
   "execution_count": 27,
   "metadata": {},
   "outputs": [
    {
     "data": {
      "application/vnd.jupyter.widget-view+json": {
       "model_id": "c429d1588c534653a95e289f3f9b506f",
       "version_major": 2,
       "version_minor": 0
      },
      "text/plain": [
       "interactive(children=(IntSlider(value=499, description='index', max=999), Output()), _dom_classes=('widget-int…"
      ]
     },
     "metadata": {},
     "output_type": "display_data"
    }
   ],
   "source": [
    "corners = []\n",
    "for i in range(len(piece_contours)):\n",
    "    corners.append(find_corners(piece_contours[i]))\n",
    "\n",
    "# show all indicators\n",
    "@interact(index=(0, len(piece_images) - 1))\n",
    "def view_all_indicators(index):\n",
    "    corner = find_corners(piece_contours[index])\n",
    "    angle_indicators = get_angle_indicators(piece_contours[index])\n",
    "    center_indicators = get_center_indicators(piece_contours[index]) * 3\n",
    "    distance_indicators = get_distance_indicators(piece_contours[index]) * 0.5\n",
    "    \n",
    "    for i in range(len(corner)):\n",
    "        plt.axvline(corner[i], color='r')\n",
    "    plt.plot(angle_indicators + center_indicators + distance_indicators, label='total')"
   ]
  },
  {
   "cell_type": "code",
   "execution_count": 28,
   "metadata": {},
   "outputs": [
    {
     "name": "stdout",
     "output_type": "stream",
     "text": [
      "Length: 93.0, Index: 78\n",
      "Length: 96.0, Index: 68\n",
      "Length: 97.0, Index: 26\n",
      "Length: 97.0, Index: 108\n",
      "Length: 98.0, Index: 101\n",
      "Length: 98.0, Index: 123\n",
      "Length: 99.0, Index: 98\n",
      "Length: 99.0, Index: 61\n",
      "Length: 101.0, Index: 116\n",
      "Length: 102.0, Index: 54\n",
      "Length: 185.0, Index: 93\n",
      "Length: 187.0, Index: 913\n",
      "Length: 187.0, Index: 505\n",
      "Length: 188.0, Index: 863\n",
      "Length: 191.0, Index: 843\n",
      "Length: 193.0, Index: 576\n",
      "Length: 193.0, Index: 229\n",
      "Length: 194.0, Index: 211\n",
      "Length: 194.0, Index: 457\n",
      "Length: 194.0, Index: 40\n"
     ]
    }
   ],
   "source": [
    "def get_shortest_edge(corners, contour_len):\n",
    "    shortest_edge = np.inf\n",
    "    for i in range(4):\n",
    "        length = corners[i] - corners[i-1]\n",
    "        if length < 0:\n",
    "            length += contour_len\n",
    "        if length < shortest_edge:\n",
    "            shortest_edge = length\n",
    "    return shortest_edge\n",
    "def get_longest_edge(corners, contour_len):\n",
    "    longest_edge = 0\n",
    "    for i in range(4):\n",
    "        length = corners[i] - corners[i-1]\n",
    "        if length < 0:\n",
    "            length += contour_len\n",
    "        if length > longest_edge:\n",
    "            longest_edge = length\n",
    "    return longest_edge\n",
    "\n",
    "# find shortest and longest edges\n",
    "short_lengths = np.zeros(len(piece_contours))\n",
    "long_lengths = np.zeros(len(piece_contours))\n",
    "for i in range(len(corners)):\n",
    "    short_lengths[i] = get_shortest_edge(corners[i], len(piece_contours[i]))\n",
    "    long_lengths[i] = get_longest_edge(corners[i], len(piece_contours[i]))\n",
    "\n",
    "indices = np.argsort(short_lengths)\n",
    "for i in range(10):\n",
    "    print(\"Length: {}, Index: {}\".format(short_lengths[indices[i]], indices[i]))\n",
    "\n",
    "indices = np.argsort(long_lengths)\n",
    "for i in range(10):\n",
    "    print(\"Length: {}, Index: {}\".format(long_lengths[indices[i]], indices[i]))"
   ]
  },
  {
   "attachments": {},
   "cell_type": "markdown",
   "metadata": {},
   "source": [
    "Corner detection is successful"
   ]
  }
 ],
 "metadata": {
  "kernelspec": {
   "display_name": "Python 3",
   "language": "python",
   "name": "python3"
  },
  "language_info": {
   "codemirror_mode": {
    "name": "ipython",
    "version": 3
   },
   "file_extension": ".py",
   "mimetype": "text/x-python",
   "name": "python",
   "nbconvert_exporter": "python",
   "pygments_lexer": "ipython3",
   "version": "3.11.3"
  },
  "orig_nbformat": 4
 },
 "nbformat": 4,
 "nbformat_minor": 2
}
